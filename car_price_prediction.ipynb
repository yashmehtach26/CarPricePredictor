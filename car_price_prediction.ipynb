{
 "cells": [
  {
   "cell_type": "code",
   "execution_count": 110,
   "id": "9ff84d4e",
   "metadata": {},
   "outputs": [],
   "source": [
    "import numpy as np\n",
    "import pandas as pd\n",
    "import matplotlib.pyplot as mt\n",
    "import seaborn as sb\n",
    "from sklearn.linear_model import LinearRegression\n",
    "sb.set()"
   ]
  },
  {
   "cell_type": "code",
   "execution_count": 111,
   "id": "122747fe",
   "metadata": {},
   "outputs": [],
   "source": [
    "raw_data = pd.read_csv('D:\\\\Data Science\\\\Datasets\\\\Datasets\\\\CarsSalesData.csv')"
   ]
  },
  {
   "cell_type": "code",
   "execution_count": 116,
   "id": "e7c1ef60",
   "metadata": {},
   "outputs": [
    {
     "data": {
      "text/plain": [
       "Brand           0\n",
       "Price           0\n",
       "Body            0\n",
       "Mileage         0\n",
       "EngineV         0\n",
       "Engine Type     0\n",
       "Registration    0\n",
       "Year            0\n",
       "dtype: int64"
      ]
     },
     "execution_count": 116,
     "metadata": {},
     "output_type": "execute_result"
    }
   ],
   "source": [
    "raw_data.isna().sum()"
   ]
  },
  {
   "cell_type": "code",
   "execution_count": 113,
   "id": "32c9b6f7",
   "metadata": {},
   "outputs": [],
   "source": [
    "raw_data['Price'] = raw_data['Price'].fillna(raw_data['Price'].mean())"
   ]
  },
  {
   "cell_type": "code",
   "execution_count": 114,
   "id": "d8aa526c",
   "metadata": {},
   "outputs": [],
   "source": [
    "raw_data['EngineV'] = raw_data['EngineV'].fillna(raw_data['EngineV'].median())"
   ]
  },
  {
   "cell_type": "code",
   "execution_count": 115,
   "id": "7461414d",
   "metadata": {},
   "outputs": [],
   "source": [
    "raw_data.drop(['Model'], axis=1,inplace=True)"
   ]
  },
  {
   "cell_type": "code",
   "execution_count": 117,
   "id": "ecd2cdd9",
   "metadata": {},
   "outputs": [
    {
     "data": {
      "text/html": [
       "<div>\n",
       "<style scoped>\n",
       "    .dataframe tbody tr th:only-of-type {\n",
       "        vertical-align: middle;\n",
       "    }\n",
       "\n",
       "    .dataframe tbody tr th {\n",
       "        vertical-align: top;\n",
       "    }\n",
       "\n",
       "    .dataframe thead th {\n",
       "        text-align: right;\n",
       "    }\n",
       "</style>\n",
       "<table border=\"1\" class=\"dataframe\">\n",
       "  <thead>\n",
       "    <tr style=\"text-align: right;\">\n",
       "      <th></th>\n",
       "      <th>Price</th>\n",
       "      <th>Mileage</th>\n",
       "      <th>EngineV</th>\n",
       "      <th>Year</th>\n",
       "    </tr>\n",
       "  </thead>\n",
       "  <tbody>\n",
       "    <tr>\n",
       "      <th>count</th>\n",
       "      <td>4345.000000</td>\n",
       "      <td>4345.000000</td>\n",
       "      <td>4345.000000</td>\n",
       "      <td>4345.000000</td>\n",
       "    </tr>\n",
       "    <tr>\n",
       "      <th>mean</th>\n",
       "      <td>19418.746935</td>\n",
       "      <td>161.237284</td>\n",
       "      <td>2.770341</td>\n",
       "      <td>2006.550058</td>\n",
       "    </tr>\n",
       "    <tr>\n",
       "      <th>std</th>\n",
       "      <td>25072.625077</td>\n",
       "      <td>105.705797</td>\n",
       "      <td>4.979364</td>\n",
       "      <td>6.719097</td>\n",
       "    </tr>\n",
       "    <tr>\n",
       "      <th>min</th>\n",
       "      <td>600.000000</td>\n",
       "      <td>0.000000</td>\n",
       "      <td>0.600000</td>\n",
       "      <td>1969.000000</td>\n",
       "    </tr>\n",
       "    <tr>\n",
       "      <th>25%</th>\n",
       "      <td>7100.000000</td>\n",
       "      <td>86.000000</td>\n",
       "      <td>1.900000</td>\n",
       "      <td>2003.000000</td>\n",
       "    </tr>\n",
       "    <tr>\n",
       "      <th>50%</th>\n",
       "      <td>11900.000000</td>\n",
       "      <td>155.000000</td>\n",
       "      <td>2.200000</td>\n",
       "      <td>2008.000000</td>\n",
       "    </tr>\n",
       "    <tr>\n",
       "      <th>75%</th>\n",
       "      <td>20900.000000</td>\n",
       "      <td>230.000000</td>\n",
       "      <td>3.000000</td>\n",
       "      <td>2012.000000</td>\n",
       "    </tr>\n",
       "    <tr>\n",
       "      <th>max</th>\n",
       "      <td>300000.000000</td>\n",
       "      <td>980.000000</td>\n",
       "      <td>99.990000</td>\n",
       "      <td>2016.000000</td>\n",
       "    </tr>\n",
       "  </tbody>\n",
       "</table>\n",
       "</div>"
      ],
      "text/plain": [
       "               Price      Mileage      EngineV         Year\n",
       "count    4345.000000  4345.000000  4345.000000  4345.000000\n",
       "mean    19418.746935   161.237284     2.770341  2006.550058\n",
       "std     25072.625077   105.705797     4.979364     6.719097\n",
       "min       600.000000     0.000000     0.600000  1969.000000\n",
       "25%      7100.000000    86.000000     1.900000  2003.000000\n",
       "50%     11900.000000   155.000000     2.200000  2008.000000\n",
       "75%     20900.000000   230.000000     3.000000  2012.000000\n",
       "max    300000.000000   980.000000    99.990000  2016.000000"
      ]
     },
     "execution_count": 117,
     "metadata": {},
     "output_type": "execute_result"
    }
   ],
   "source": [
    "raw_data.describe()"
   ]
  },
  {
   "cell_type": "code",
   "execution_count": 121,
   "id": "ae3ef1fa",
   "metadata": {},
   "outputs": [],
   "source": [
    "p=raw_data['Year'].quantile(0.01)\n",
    "raw_data = raw_data[raw_data['Year']>p]"
   ]
  },
  {
   "cell_type": "code",
   "execution_count": 122,
   "id": "42ba4b65",
   "metadata": {},
   "outputs": [],
   "source": [
    "raw_data.reset_index(inplace=True, drop=True)"
   ]
  },
  {
   "cell_type": "code",
   "execution_count": 124,
   "id": "d209213b",
   "metadata": {},
   "outputs": [
    {
     "data": {
      "image/png": "[encoded data removed]",
      "text/plain": [
       "<Figure size 1080x216 with 3 Axes>"
      ]
     },
     "metadata": {},
     "output_type": "display_data"
    }
   ],
   "source": [
    "f,(a1,a2,a3) = mt.subplots(1,3, figsize=(15,3))\n",
    "a1.scatter(raw_data['LogPrice'],raw_data['Mileage'])\n",
    "a1.set_title('LogPrice Vs Mileage')\n",
    "a2.scatter(raw_data['LogPrice'],raw_data['EngineV'])\n",
    "a2.set_title('LogPrice Vs EngineV')\n",
    "a3.scatter(raw_data['LogPrice'],raw_data['Year'])\n",
    "a3.set_title('LogPrice Vs Year')\n",
    "mt.show()"
   ]
  },
  {
   "cell_type": "code",
   "execution_count": 123,
   "id": "cf15e749",
   "metadata": {},
   "outputs": [],
   "source": [
    "raw_data['LogPrice'] = np.log(raw_data['Price'])"
   ]
  },
  {
   "cell_type": "code",
   "execution_count": 49,
   "id": "f8dad1be",
   "metadata": {},
   "outputs": [
    {
     "data": {
      "text/plain": [
       "<AxesSubplot:>"
      ]
     },
     "execution_count": 49,
     "metadata": {},
     "output_type": "execute_result"
    },
    {
     "data": {
      "image/png": "[encoded data removed]",
      "text/plain": [
       "<Figure size 432x288 with 2 Axes>"
      ]
     },
     "metadata": {},
     "output_type": "display_data"
    }
   ],
   "source": [
    "sb.heatmap(raw_data.corr())"
   ]
  },
  {
   "cell_type": "code",
   "execution_count": 125,
   "id": "9df66099",
   "metadata": {},
   "outputs": [],
   "source": [
    "raw_data['Registration'] = raw_data['Registration'].map({'yes':1,'no':0})"
   ]
  },
  {
   "cell_type": "code",
   "execution_count": 126,
   "id": "4357534b",
   "metadata": {},
   "outputs": [],
   "source": [
    "brand_dummies = pd.get_dummies(raw_data['Brand'])\n",
    "body_dummies = pd.get_dummies(raw_data['Body'])\n",
    "etype_dummies = pd.get_dummies(raw_data['Engine Type'])"
   ]
  },
  {
   "cell_type": "code",
   "execution_count": 127,
   "id": "3203667b",
   "metadata": {},
   "outputs": [
    {
     "data": {
      "text/html": [
       "<div>\n",
       "<style scoped>\n",
       "    .dataframe tbody tr th:only-of-type {\n",
       "        vertical-align: middle;\n",
       "    }\n",
       "\n",
       "    .dataframe tbody tr th {\n",
       "        vertical-align: top;\n",
       "    }\n",
       "\n",
       "    .dataframe thead th {\n",
       "        text-align: right;\n",
       "    }\n",
       "</style>\n",
       "<table border=\"1\" class=\"dataframe\">\n",
       "  <thead>\n",
       "    <tr style=\"text-align: right;\">\n",
       "      <th></th>\n",
       "      <th>Brand</th>\n",
       "      <th>Price</th>\n",
       "      <th>Body</th>\n",
       "      <th>Mileage</th>\n",
       "      <th>EngineV</th>\n",
       "      <th>Engine Type</th>\n",
       "      <th>Registration</th>\n",
       "      <th>Year</th>\n",
       "      <th>LogPrice</th>\n",
       "      <th>Audi</th>\n",
       "      <th>...</th>\n",
       "      <th>crossover</th>\n",
       "      <th>hatch</th>\n",
       "      <th>other</th>\n",
       "      <th>sedan</th>\n",
       "      <th>vagon</th>\n",
       "      <th>van</th>\n",
       "      <th>Diesel</th>\n",
       "      <th>Gas</th>\n",
       "      <th>Other</th>\n",
       "      <th>Petrol</th>\n",
       "    </tr>\n",
       "  </thead>\n",
       "  <tbody>\n",
       "    <tr>\n",
       "      <th>0</th>\n",
       "      <td>BMW</td>\n",
       "      <td>4200.0</td>\n",
       "      <td>sedan</td>\n",
       "      <td>277</td>\n",
       "      <td>2.0</td>\n",
       "      <td>Petrol</td>\n",
       "      <td>1</td>\n",
       "      <td>1991</td>\n",
       "      <td>8.342840</td>\n",
       "      <td>0</td>\n",
       "      <td>...</td>\n",
       "      <td>0</td>\n",
       "      <td>0</td>\n",
       "      <td>0</td>\n",
       "      <td>1</td>\n",
       "      <td>0</td>\n",
       "      <td>0</td>\n",
       "      <td>0</td>\n",
       "      <td>0</td>\n",
       "      <td>0</td>\n",
       "      <td>1</td>\n",
       "    </tr>\n",
       "    <tr>\n",
       "      <th>1</th>\n",
       "      <td>Mercedes-Benz</td>\n",
       "      <td>7900.0</td>\n",
       "      <td>van</td>\n",
       "      <td>427</td>\n",
       "      <td>2.9</td>\n",
       "      <td>Diesel</td>\n",
       "      <td>1</td>\n",
       "      <td>1999</td>\n",
       "      <td>8.974618</td>\n",
       "      <td>0</td>\n",
       "      <td>...</td>\n",
       "      <td>0</td>\n",
       "      <td>0</td>\n",
       "      <td>0</td>\n",
       "      <td>0</td>\n",
       "      <td>0</td>\n",
       "      <td>1</td>\n",
       "      <td>1</td>\n",
       "      <td>0</td>\n",
       "      <td>0</td>\n",
       "      <td>0</td>\n",
       "    </tr>\n",
       "    <tr>\n",
       "      <th>2</th>\n",
       "      <td>Mercedes-Benz</td>\n",
       "      <td>13300.0</td>\n",
       "      <td>sedan</td>\n",
       "      <td>358</td>\n",
       "      <td>5.0</td>\n",
       "      <td>Gas</td>\n",
       "      <td>1</td>\n",
       "      <td>2003</td>\n",
       "      <td>9.495519</td>\n",
       "      <td>0</td>\n",
       "      <td>...</td>\n",
       "      <td>0</td>\n",
       "      <td>0</td>\n",
       "      <td>0</td>\n",
       "      <td>1</td>\n",
       "      <td>0</td>\n",
       "      <td>0</td>\n",
       "      <td>0</td>\n",
       "      <td>1</td>\n",
       "      <td>0</td>\n",
       "      <td>0</td>\n",
       "    </tr>\n",
       "    <tr>\n",
       "      <th>3</th>\n",
       "      <td>Audi</td>\n",
       "      <td>23000.0</td>\n",
       "      <td>crossover</td>\n",
       "      <td>240</td>\n",
       "      <td>4.2</td>\n",
       "      <td>Petrol</td>\n",
       "      <td>1</td>\n",
       "      <td>2007</td>\n",
       "      <td>10.043249</td>\n",
       "      <td>1</td>\n",
       "      <td>...</td>\n",
       "      <td>1</td>\n",
       "      <td>0</td>\n",
       "      <td>0</td>\n",
       "      <td>0</td>\n",
       "      <td>0</td>\n",
       "      <td>0</td>\n",
       "      <td>0</td>\n",
       "      <td>0</td>\n",
       "      <td>0</td>\n",
       "      <td>1</td>\n",
       "    </tr>\n",
       "    <tr>\n",
       "      <th>4</th>\n",
       "      <td>Toyota</td>\n",
       "      <td>18300.0</td>\n",
       "      <td>crossover</td>\n",
       "      <td>120</td>\n",
       "      <td>2.0</td>\n",
       "      <td>Petrol</td>\n",
       "      <td>1</td>\n",
       "      <td>2011</td>\n",
       "      <td>9.814656</td>\n",
       "      <td>0</td>\n",
       "      <td>...</td>\n",
       "      <td>1</td>\n",
       "      <td>0</td>\n",
       "      <td>0</td>\n",
       "      <td>0</td>\n",
       "      <td>0</td>\n",
       "      <td>0</td>\n",
       "      <td>0</td>\n",
       "      <td>0</td>\n",
       "      <td>0</td>\n",
       "      <td>1</td>\n",
       "    </tr>\n",
       "  </tbody>\n",
       "</table>\n",
       "<p>5 rows × 26 columns</p>\n",
       "</div>"
      ],
      "text/plain": [
       "           Brand    Price       Body  Mileage  EngineV Engine Type  \\\n",
       "0            BMW   4200.0      sedan      277      2.0      Petrol   \n",
       "1  Mercedes-Benz   7900.0        van      427      2.9      Diesel   \n",
       "2  Mercedes-Benz  13300.0      sedan      358      5.0         Gas   \n",
       "3           Audi  23000.0  crossover      240      4.2      Petrol   \n",
       "4         Toyota  18300.0  crossover      120      2.0      Petrol   \n",
       "\n",
       "   Registration  Year   LogPrice  Audi  ...  crossover  hatch  other  sedan  \\\n",
       "0             1  1991   8.342840     0  ...          0      0      0      1   \n",
       "1             1  1999   8.974618     0  ...          0      0      0      0   \n",
       "2             1  2003   9.495519     0  ...          0      0      0      1   \n",
       "3             1  2007  10.043249     1  ...          1      0      0      0   \n",
       "4             1  2011   9.814656     0  ...          1      0      0      0   \n",
       "\n",
       "   vagon  van  Diesel  Gas  Other  Petrol  \n",
       "0      0    0       0    0      0       1  \n",
       "1      0    1       1    0      0       0  \n",
       "2      0    0       0    1      0       0  \n",
       "3      0    0       0    0      0       1  \n",
       "4      0    0       0    0      0       1  \n",
       "\n",
       "[5 rows x 26 columns]"
      ]
     },
     "execution_count": 127,
     "metadata": {},
     "output_type": "execute_result"
    }
   ],
   "source": [
    "raw_data = pd.concat([raw_data,brand_dummies, body_dummies, etype_dummies], axis=1)\n",
    "raw_data.head()"
   ]
  },
  {
   "cell_type": "code",
   "execution_count": 146,
   "id": "6ca6b3ad",
   "metadata": {},
   "outputs": [],
   "source": [
    "raw_data.drop(['Other','other'],inplace=True, axis=1)"
   ]
  },
  {
   "cell_type": "code",
   "execution_count": 147,
   "id": "facfce1d",
   "metadata": {},
   "outputs": [],
   "source": [
    "data = raw_data.copy()"
   ]
  },
  {
   "cell_type": "code",
   "execution_count": 148,
   "id": "6d0e19c6",
   "metadata": {},
   "outputs": [],
   "source": [
    "inputs = data.drop(['LogPrice'], axis=1)\n",
    "output = data['LogPrice']"
   ]
  },
  {
   "cell_type": "code",
   "execution_count": 149,
   "id": "d56ae3c3",
   "metadata": {},
   "outputs": [
    {
     "data": {
      "text/plain": [
       "StandardScaler()"
      ]
     },
     "execution_count": 149,
     "metadata": {},
     "output_type": "execute_result"
    }
   ],
   "source": [
    "from sklearn.preprocessing import StandardScaler\n",
    "scaler = StandardScaler()\n",
    "scaler.fit(inputs)"
   ]
  },
  {
   "cell_type": "code",
   "execution_count": 150,
   "id": "705ca4c7",
   "metadata": {},
   "outputs": [],
   "source": [
    "scaled_inputs = scaler.transform(inputs)"
   ]
  },
  {
   "cell_type": "code",
   "execution_count": 151,
   "id": "d7d84eb4",
   "metadata": {},
   "outputs": [],
   "source": [
    "from sklearn.model_selection import train_test_split\n",
    "x_train, x_test, y_train, y_test = train_test_split(scaled_inputs, output, test_size=0.2, random_state=365)"
   ]
  },
  {
   "cell_type": "code",
   "execution_count": 152,
   "id": "b9ca46d1",
   "metadata": {},
   "outputs": [
    {
     "data": {
      "text/plain": [
       "LinearRegression()"
      ]
     },
     "execution_count": 152,
     "metadata": {},
     "output_type": "execute_result"
    }
   ],
   "source": [
    "reg = LinearRegression()\n",
    "reg.fit(x_train,y_train)"
   ]
  },
  {
   "cell_type": "code",
   "execution_count": 153,
   "id": "290826e0",
   "metadata": {},
   "outputs": [
    {
     "data": {
      "text/plain": [
       "0.8468166178832448"
      ]
     },
     "execution_count": 153,
     "metadata": {},
     "output_type": "execute_result"
    }
   ],
   "source": [
    "reg.score(x_train, y_train)"
   ]
  },
  {
   "cell_type": "code",
   "execution_count": 154,
   "id": "0f2cb9c5",
   "metadata": {},
   "outputs": [
    {
     "data": {
      "text/plain": [
       "array([ 9.09103878,  8.04416378,  9.33713253, 10.03439816,  9.23947628,\n",
       "        8.00607785,  8.39865597,  9.70334347,  7.74924191,  9.14572628,\n",
       "        8.5959216 , 10.07346066, 10.29611691,  9.41721066,  9.53146847,\n",
       "        9.07541378,  8.23166378,  9.46603878,  9.35568722,  9.57150753,\n",
       "        9.25900753,  9.92795285,  9.21115597,  7.84787472, 10.21408566,\n",
       "        9.29025753,  8.07639035,  9.41037472, 10.33713253,  9.85471066,\n",
       "       10.3615466 ,  8.50900753,  9.59103878,  8.94162472, 10.43576535,\n",
       "        8.67014035, 10.20920285,  9.82834347,  7.46799191,  9.44162472,\n",
       "       10.91135128,  9.08322628,  9.70041378, 10.41232785,  9.94553097,\n",
       "       10.58517941,  8.71896847,  8.35764035,  9.72775753,  9.18478878,\n",
       "        9.45334347,  9.0646716 ,  9.52658566,  9.84201535,  8.55295285,\n",
       "        9.06955441,  8.7834216 ,  8.47287472, 10.48459347,  9.14084347,\n",
       "        9.91037472,  8.76584347,  9.04709347,  9.74045285, 10.26193722,\n",
       "        8.05197628,  9.24045285, 10.05783566,  8.72287472,  9.45627316,\n",
       "        9.77463253, 10.76584347,  7.97580441,  9.15256222,  9.88693722,\n",
       "        8.13693722,  9.39084347,  9.55295285,  7.87814816,  9.41232785,\n",
       "       10.33517941, 10.59103878,  9.46017941,  7.9865466 ,  8.37619503,\n",
       "        9.15939816,  9.92209347,  9.72775753, 10.91818722, 10.13791378,\n",
       "        9.4396716 , 10.55002316,  9.06369503,  9.85764035,  9.82639035,\n",
       "        9.7756091 ,  8.03439816,  8.24826535, 11.16037472,  8.90256222,\n",
       "        9.3459216 , 10.69064816, 10.15646847, 10.14377316, 10.57932003,\n",
       "        9.25314816, 10.09299191, 10.02365597,  9.64670285,  8.79611691,\n",
       "       10.09006222,  9.48752316,  9.02072628,  9.6115466 ,  9.53146847,\n",
       "        9.20920285, 10.51389035,  8.91916378,  9.21115597,  8.9943591 ,\n",
       "        7.7990466 ,  7.64377316,  8.78928097,  8.18771847,  8.99045285,\n",
       "        8.6427966 ,  9.26584347,  9.82639035,  9.31955441,  8.11642941,\n",
       "        9.61642941, 10.00119503,  8.31174191,  9.10764035, 10.81760128,\n",
       "        9.34494503,  9.70432003,  9.2131091 ,  8.75021847, 10.29709347,\n",
       "        9.0802966 ,  9.59201535,  9.18478878,  7.97287472,  8.24142941,\n",
       "        9.6349841 ,  9.12424191,  9.18088253, 10.48849972,  9.47482785,\n",
       "        9.54318722,  7.9787341 ,  8.2677966 ,  9.01584347,  7.9552966 ,\n",
       "        8.85666378,  9.31369503,  9.18088253, 10.37521847,  9.76193722,\n",
       "        8.55588253,  9.57736691,  9.67990597,  9.87619503,  8.71701535,\n",
       "       10.1818591 ,  9.26193722,  9.14865597,  9.8771716 ,  8.98068722,\n",
       "        9.67502316,  8.59689816,  9.16818722,  8.96994503, 10.39963253,\n",
       "        9.20724972,  9.82736691,  9.17990597, 10.15744503,  9.69162472,\n",
       "        9.19260128,  8.17111691, 10.04416378, 10.82150753, 11.1818591 ,\n",
       "        9.44064816, 10.04221066,  9.92892941, 10.6037341 ,  9.31857785,\n",
       "        9.15256222,  8.85471066,  9.5959216 ,  9.54709347,  8.13596066,\n",
       "        9.98361691, 10.66037472, 10.81760128,  8.14182003,  9.50900753,\n",
       "        7.73459347,  9.82541378,  9.69455441,  8.84201535,  9.56369503,\n",
       "        8.27463253,  9.11642941,  9.46115597,  8.73361691, 10.55392941,\n",
       "        9.22482785,  9.86740597,  9.5646716 ,  9.74533566, 10.59787472,\n",
       "        9.64865597,  9.65646847,  8.50607785, 10.2677966 ,  9.82639035,\n",
       "        8.53049191,  9.13010128,  9.05099972,  9.16818722,  9.1193591 ,\n",
       "        7.64084347,  9.10471066,  8.92014035,  9.31564816,  8.90451535,\n",
       "        9.2912341 ,  9.94162472,  9.43771847,  8.09494503,  9.12912472,\n",
       "        9.71603878,  7.6662341 ,  9.33713253,  8.90256222,  9.57736691,\n",
       "       10.16525753,  9.12326535,  9.37228878,  9.43478878, 10.03830441,\n",
       "       10.63986691,  9.09885128,  9.1271716 ,  8.59006222,  9.64572628,\n",
       "        8.6662341 , 10.08322628,  8.72482785,  8.89767941,  9.31955441,\n",
       "       11.1506091 ,  9.7365466 , 10.21994503, 10.40451535,  9.91232785,\n",
       "       10.37326535,  9.03732785,  8.84201535, 10.57736691,  9.56857785,\n",
       "        8.56564816,  9.99728878, 10.02267941,  8.7521716 ,  8.16721066,\n",
       "        8.86057003,  9.25314816,  9.88889035,  9.18869503,  9.76389035,\n",
       "       10.56564816,  9.72971066,  9.76877316,  9.54318722,  9.09396847,\n",
       "        8.03537472,  9.12228878, 10.25803097,  9.15451535,  8.83713253,\n",
       "        9.55881222, 10.08517941,  8.02365597,  9.2834216 ,  9.81564816,\n",
       "        8.23849972,  9.03049191,  9.15158566,  9.09885128,  9.30978878,\n",
       "        9.70041378,  8.99631222, 10.74142941,  7.87521847,  9.76877316,\n",
       "        8.97775753,  9.5646716 ,  9.92209347, 10.95432003, 10.54709347,\n",
       "        9.28928097,  9.62326535,  9.2443591 ,  9.7365466 ,  9.25705441,\n",
       "        9.83615597,  9.30099972, 10.52170285,  9.62521847,  8.04514035,\n",
       "       11.23264035, 10.42502316,  9.26486691,  9.68088253,  9.55392941,\n",
       "        7.28146847, 10.18576535,  9.19260128,  9.15158566,  9.72678097,\n",
       "        9.86057003,  9.27756222, 10.23849972, 10.46506222,  9.1506091 ,\n",
       "        9.5881091 ,  9.13986691,  8.76682003,  9.14767941,  9.01974972,\n",
       "        9.3224841 ,  8.46994503,  9.0881091 ,  8.48166378,  9.76682003,\n",
       "       10.92990597, 10.46701535,  8.7443591 ,  7.45627316,  8.25803097,\n",
       "        7.76193722,  9.82736691,  9.23752316, 10.2912341 ,  8.96799191,\n",
       "        9.71994503,  9.2287341 ,  9.32932003,  9.53635128,  9.59299191,\n",
       "        9.71506222,  9.06857785,  7.84982785,  9.19260128,  9.15256222,\n",
       "        9.76291378, 10.19650753,  9.7677966 ,  9.69553097, 10.27756222,\n",
       "       10.05392941, 10.17697628,  9.15353878,  9.7521716 ,  9.96994503,\n",
       "        9.07053097, 10.91135128, 10.6037341 ,  9.15158566,  8.13010128,\n",
       "        8.33615597, 10.09006222,  8.27756222, 10.17111691,  7.68088253,\n",
       "        9.40939816, 10.04709347,  9.24826535,  9.46994503,  8.3693591 ,\n",
       "        9.46896847,  9.81760128,  9.03732785,  9.51291378,  9.66428097,\n",
       "       10.3146716 ,  8.84787472, 10.03146847, 10.14182003, 11.00803097,\n",
       "        9.86447628,  8.80197628,  9.95724972,  9.83420285,  8.07443722,\n",
       "        8.84396847,  9.89084347, 10.13205441,  9.43674191, 10.91721066,\n",
       "        9.31076535,  9.95236691,  8.5099841 ,  9.3146716 ,  8.61642941,\n",
       "        9.96115597,  9.1037341 ,  9.78537472,  9.1506091 ,  8.28537472,\n",
       "       10.1740466 ,  9.44553097, 10.08420285,  8.89474972, 10.07541378,\n",
       "       10.12228878,  8.7365466 ,  9.30783566,  8.74924191,  9.63205441,\n",
       "        9.93088253,  8.70139035, 10.28439816,  9.72971066, 10.09201535,\n",
       "        9.13205441,  9.04221066, 10.19455441,  9.95139035, 10.70139035,\n",
       "        7.94650753,  8.42014035, 10.49826535,  9.35764035,  8.51486691,\n",
       "        9.72775753, 10.6115466 ,  8.67795285,  9.15451535,  9.20139035,\n",
       "       10.43576535,  8.60764035,  9.21799191,  9.40939816,  9.46506222,\n",
       "        7.68478878,  7.18478878, 10.1818591 , 10.7443591 ,  9.74826535,\n",
       "        8.96994503,  9.27072628, 10.7365466 , 10.27267941,  9.26389035,\n",
       "        9.31271847, 10.10568722,  8.86740597,  9.42990597,  9.48068722,\n",
       "        9.27853878,  9.07834347,  8.44650753,  9.60568722,  8.62131222,\n",
       "        9.4865466 ,  8.89182003,  9.62424191,  9.21213253, 10.47971066,\n",
       "       10.38010128,  9.75412472,  9.51584347, 10.50705441,  9.5256091 ,\n",
       "       10.37131222, 10.91818722,  9.58420285,  9.65744503,  8.15158566,\n",
       "        9.90549191,  8.59201535,  9.60959347,  8.73264035,  7.39963253,\n",
       "       10.09299191,  9.07834347,  7.94846066,  8.80002316,  9.46017941,\n",
       "        9.05881222,  9.33224972,  9.13791378,  9.21115597,  9.61838253,\n",
       "        9.92599972,  9.63303097,  9.0490466 ,  7.92697628,  9.31271847,\n",
       "        7.52658566,  9.46115597,  8.35666378,  8.0177966 ,  9.47971066,\n",
       "        9.5724841 , 10.14670285,  9.15939816,  7.40744503,  9.84885128,\n",
       "        9.06271847,  9.61642941,  9.81076535,  8.4162341 ,  9.46408566,\n",
       "        9.35178097,  7.9474841 ,  9.45920285,  8.35275753,  9.60959347,\n",
       "        9.03732785,  9.42209347,  8.09396847,  8.10080441,  9.5177966 ,\n",
       "        9.16721066,  9.91818722,  9.44553097,  9.26389035,  9.05392941,\n",
       "        9.33420285,  9.79514035,  9.54221066,  9.5021716 ,  8.7912341 ,\n",
       "        8.47971066,  8.43869503,  8.77365597,  9.59103878,  8.93088253,\n",
       "        9.51974972, 10.75021847,  9.7521716 ,  8.34787472,  9.47678097,\n",
       "        9.32150753,  8.35178097,  9.78537472,  9.2756091 , 10.19260128,\n",
       "        8.32150753,  8.24045285,  8.14670285, 10.81174191,  9.63107785,\n",
       "        9.16916378,  7.89572628,  8.81955441,  9.76877316,  8.23557003,\n",
       "        8.68576535,  8.57150753,  9.3537341 ,  9.45822628,  9.3302966 ,\n",
       "       10.09299191,  8.52267941,  9.71994503,  9.80197628, 10.35666378,\n",
       "       10.16037472,  9.81271847,  9.45236691, 10.19553097, 10.20236691,\n",
       "        9.72678097, 10.6896716 ,  8.2209216 , 10.42111691, 10.04221066,\n",
       "        9.73068722,  8.09885128, 10.18576535,  8.94357785,  8.03635128,\n",
       "       10.50021847,  9.28049191,  9.15646847,  8.76682003,  8.38791378,\n",
       "        9.98849972,  8.04709347,  9.03635128, 11.02756222,  8.91818722,\n",
       "        7.74631222, 10.05002316, 10.80588253, 10.76291378,  9.56271847,\n",
       "       10.05978878,  8.43478878,  9.60568722,  9.37814816,  8.76584347,\n",
       "        9.98166378,  9.20724972,  9.35666378,  7.23068722,  8.5646716 ,\n",
       "        9.55490597,  9.62228878,  9.68771847,  8.94162472,  9.83127316,\n",
       "        9.00705441,  9.71994503,  8.3771716 ,  9.68381222,  9.42209347,\n",
       "        9.93088253,  9.23947628,  8.3068591 ,  9.78928097,  9.16818722,\n",
       "       10.18771847,  8.5177966 ,  9.21115597,  7.63303097,  7.6818591 ,\n",
       "       10.09006222,  8.95041378,  9.48947628,  9.1740466 ,  9.02951535,\n",
       "        9.9162341 ,  9.63986691,  8.24826535,  9.33615597,  7.53635128,\n",
       "        9.81271847,  9.01096066,  9.34494503, 10.44455441, 10.31857785,\n",
       "        9.89670285,  9.33224972,  9.39670285,  9.37814816,  9.41232785,\n",
       "        8.98068722,  9.18576535,  8.50705441,  8.88205441,  9.48068722,\n",
       "       11.08908566,  8.7912341 ,  8.64572628,  9.1427966 ,  9.85080441,\n",
       "        9.19846066, 10.18771847,  8.91428097,  8.15256222,  8.39182003,\n",
       "        9.17599972,  9.46408566,  9.2521716 ,  9.84299191,  8.10959347,\n",
       "        9.62814816, 10.72287472,  9.16525753,  8.65939816,  8.88107785,\n",
       "       10.40744503, 10.75412472,  9.69260128, 10.17795285,  9.07541378,\n",
       "        9.68283566,  7.4865466 , 10.67892941,  9.53732785,  9.01193722,\n",
       "        8.82834347, 10.26291378,  9.3381091 ,  9.96896847, 10.5724841 ,\n",
       "        7.24728878,  9.12033566,  8.44846066,  9.25900753, 10.45041378,\n",
       "       10.24728878,  8.82541378, 10.13303097,  9.07053097,  9.60666378,\n",
       "       11.0334216 ,  8.34787472,  9.24142941,  9.71017941,  9.92014035,\n",
       "       10.09006222,  9.99631222,  9.13107785,  7.66721066,  8.64084347,\n",
       "        9.64084347,  9.39182003,  9.45041378,  9.69553097,  9.21408566,\n",
       "        8.80881222, 10.71506222,  9.10861691,  8.32736691,  9.31076535,\n",
       "        9.92990597,  9.83615597,  9.05881222,  8.96213253,  8.76096066,\n",
       "       10.0412341 ,  9.98752316,  8.96017941,  9.21896847,  8.19064816,\n",
       "        8.25119503,  8.49142941, 10.2756091 ,  8.59299191, 10.45432003,\n",
       "        8.5724841 ,  7.39963253,  9.14182003, 10.7834216 ,  8.06271847,\n",
       "        9.79318722,  8.67599972,  8.47775753, 10.99240597,  9.80099972,\n",
       "       10.44064816,  8.76096066,  8.47775753,  9.19455441,  8.70822628,\n",
       "        7.69064816, 10.10275753, 10.48849972, 10.1740466 ,  9.07346066,\n",
       "       10.66135128,  8.2443591 ,  8.71213253,  9.25314816,  8.05002316,\n",
       "       10.90451535,  9.63986691,  8.07443722,  9.31076535,  8.88986691,\n",
       "        9.70724972, 10.4709216 ,  7.92502316,  9.56760128, 10.53635128,\n",
       "        9.46213253,  9.48459347, 10.2912341 , 10.44064816, 10.04221066,\n",
       "        9.50607785,  8.75607785,  7.69357785,  9.2677966 ,  9.58615597,\n",
       "       10.29416378,  8.12912472,  9.90646847,  9.77072628,  9.38010128,\n",
       "       10.19650753,  9.29807003,  9.82834347,  9.67990597, 10.26682003,\n",
       "       10.3459216 ,  8.6037341 ,  7.87424191,  9.37912472,  9.95432003,\n",
       "        8.63596066,  9.06857785,  9.03146847, 10.28732785,  8.19064816,\n",
       "        9.52756222, 10.63303097, 10.03928097,  9.32639035, 10.5724841 ,\n",
       "       10.29611691,  9.65256222,  9.37033566,  8.96603878,  9.96506222,\n",
       "        8.05881222, 10.91818722,  9.43478878,  8.29025753,  9.59006222,\n",
       "        8.99240597,  8.96213253,  9.4162341 ,  9.28244503,  9.07346066,\n",
       "        9.42892941,  9.65646847,  9.17599972,  9.19357785])"
      ]
     },
     "execution_count": 154,
     "metadata": {},
     "output_type": "execute_result"
    }
   ],
   "source": [
    "reg.predict(x_test)"
   ]
  },
  {
   "cell_type": "code",
   "execution_count": 155,
   "id": "c26cba43",
   "metadata": {},
   "outputs": [
    {
     "data": {
      "text/html": [
       "<div>\n",
       "<style scoped>\n",
       "    .dataframe tbody tr th:only-of-type {\n",
       "        vertical-align: middle;\n",
       "    }\n",
       "\n",
       "    .dataframe tbody tr th {\n",
       "        vertical-align: top;\n",
       "    }\n",
       "\n",
       "    .dataframe thead th {\n",
       "        text-align: right;\n",
       "    }\n",
       "</style>\n",
       "<table border=\"1\" class=\"dataframe\">\n",
       "  <thead>\n",
       "    <tr style=\"text-align: right;\">\n",
       "      <th></th>\n",
       "      <th>Mileage</th>\n",
       "      <th>EngineV</th>\n",
       "      <th>Registration</th>\n",
       "      <th>Year</th>\n",
       "      <th>Audi</th>\n",
       "      <th>BMW</th>\n",
       "      <th>Mercedes-Benz</th>\n",
       "      <th>Mitsubishi</th>\n",
       "      <th>Renault</th>\n",
       "      <th>Toyota</th>\n",
       "      <th>Volkswagen</th>\n",
       "      <th>crossover</th>\n",
       "      <th>hatch</th>\n",
       "      <th>sedan</th>\n",
       "      <th>vagon</th>\n",
       "      <th>van</th>\n",
       "      <th>Diesel</th>\n",
       "      <th>Gas</th>\n",
       "      <th>Petrol</th>\n",
       "    </tr>\n",
       "  </thead>\n",
       "  <tbody>\n",
       "    <tr>\n",
       "      <th>0</th>\n",
       "      <td>277</td>\n",
       "      <td>2.0</td>\n",
       "      <td>1</td>\n",
       "      <td>1991</td>\n",
       "      <td>0</td>\n",
       "      <td>1</td>\n",
       "      <td>0</td>\n",
       "      <td>0</td>\n",
       "      <td>0</td>\n",
       "      <td>0</td>\n",
       "      <td>0</td>\n",
       "      <td>0</td>\n",
       "      <td>0</td>\n",
       "      <td>1</td>\n",
       "      <td>0</td>\n",
       "      <td>0</td>\n",
       "      <td>0</td>\n",
       "      <td>0</td>\n",
       "      <td>1</td>\n",
       "    </tr>\n",
       "    <tr>\n",
       "      <th>1</th>\n",
       "      <td>427</td>\n",
       "      <td>2.9</td>\n",
       "      <td>1</td>\n",
       "      <td>1999</td>\n",
       "      <td>0</td>\n",
       "      <td>0</td>\n",
       "      <td>1</td>\n",
       "      <td>0</td>\n",
       "      <td>0</td>\n",
       "      <td>0</td>\n",
       "      <td>0</td>\n",
       "      <td>0</td>\n",
       "      <td>0</td>\n",
       "      <td>0</td>\n",
       "      <td>0</td>\n",
       "      <td>1</td>\n",
       "      <td>1</td>\n",
       "      <td>0</td>\n",
       "      <td>0</td>\n",
       "    </tr>\n",
       "    <tr>\n",
       "      <th>2</th>\n",
       "      <td>358</td>\n",
       "      <td>5.0</td>\n",
       "      <td>1</td>\n",
       "      <td>2003</td>\n",
       "      <td>0</td>\n",
       "      <td>0</td>\n",
       "      <td>1</td>\n",
       "      <td>0</td>\n",
       "      <td>0</td>\n",
       "      <td>0</td>\n",
       "      <td>0</td>\n",
       "      <td>0</td>\n",
       "      <td>0</td>\n",
       "      <td>1</td>\n",
       "      <td>0</td>\n",
       "      <td>0</td>\n",
       "      <td>0</td>\n",
       "      <td>1</td>\n",
       "      <td>0</td>\n",
       "    </tr>\n",
       "    <tr>\n",
       "      <th>3</th>\n",
       "      <td>240</td>\n",
       "      <td>4.2</td>\n",
       "      <td>1</td>\n",
       "      <td>2007</td>\n",
       "      <td>1</td>\n",
       "      <td>0</td>\n",
       "      <td>0</td>\n",
       "      <td>0</td>\n",
       "      <td>0</td>\n",
       "      <td>0</td>\n",
       "      <td>0</td>\n",
       "      <td>1</td>\n",
       "      <td>0</td>\n",
       "      <td>0</td>\n",
       "      <td>0</td>\n",
       "      <td>0</td>\n",
       "      <td>0</td>\n",
       "      <td>0</td>\n",
       "      <td>1</td>\n",
       "    </tr>\n",
       "    <tr>\n",
       "      <th>4</th>\n",
       "      <td>120</td>\n",
       "      <td>2.0</td>\n",
       "      <td>1</td>\n",
       "      <td>2011</td>\n",
       "      <td>0</td>\n",
       "      <td>0</td>\n",
       "      <td>0</td>\n",
       "      <td>0</td>\n",
       "      <td>0</td>\n",
       "      <td>1</td>\n",
       "      <td>0</td>\n",
       "      <td>1</td>\n",
       "      <td>0</td>\n",
       "      <td>0</td>\n",
       "      <td>0</td>\n",
       "      <td>0</td>\n",
       "      <td>0</td>\n",
       "      <td>0</td>\n",
       "      <td>1</td>\n",
       "    </tr>\n",
       "  </tbody>\n",
       "</table>\n",
       "</div>"
      ],
      "text/plain": [
       "   Mileage  EngineV  Registration  Year  Audi  BMW  Mercedes-Benz  Mitsubishi  \\\n",
       "0      277      2.0             1  1991     0    1              0           0   \n",
       "1      427      2.9             1  1999     0    0              1           0   \n",
       "2      358      5.0             1  2003     0    0              1           0   \n",
       "3      240      4.2             1  2007     1    0              0           0   \n",
       "4      120      2.0             1  2011     0    0              0           0   \n",
       "\n",
       "   Renault  Toyota  Volkswagen  crossover  hatch  sedan  vagon  van  Diesel  \\\n",
       "0        0       0           0          0      0      1      0    0       0   \n",
       "1        0       0           0          0      0      0      0    1       1   \n",
       "2        0       0           0          0      0      1      0    0       0   \n",
       "3        0       0           0          1      0      0      0    0       0   \n",
       "4        0       1           0          1      0      0      0    0       0   \n",
       "\n",
       "   Gas  Petrol  \n",
       "0    0       1  \n",
       "1    0       0  \n",
       "2    1       0  \n",
       "3    0       1  \n",
       "4    0       1  "
      ]
     },
     "execution_count": 155,
     "metadata": {},
     "output_type": "execute_result"
    }
   ],
   "source": [
    "inputs.head()"
   ]
  },
  {
   "cell_type": "code",
   "execution_count": 204,
   "id": "a013b582",
   "metadata": {},
   "outputs": [],
   "source": [
    "def predict_price(mileage, volume, registration, year, brand, body, engine):\n",
    "    brand_index = np.where(brand==(data.columns))[0][0]-1\n",
    "    body_index = np.where((body)==(data.columns))[0][0]-1\n",
    "    etype_index = np.where((engine)==(data.columns))[0][0]-1\n",
    "    x = np.zeros(len(inputs.columns))\n",
    "    x[0] = mileage\n",
    "    x[1] = volume\n",
    "    x[2] = 1 if registration.upper()=='YES' else 0\n",
    "    x[3] = year\n",
    "    x[brand_index] = x[body_index] = x[etype_index] = 1\n",
    "    xtoscale = x.reshape(1,19)\n",
    "    x_scaled = scaler.transform(xtoscale)\n",
    "    return np.exp(reg.predict(x_scaled)[0])"
   ]
  },
  {
   "cell_type": "code",
   "execution_count": 205,
   "id": "0285ad77",
   "metadata": {},
   "outputs": [
    {
     "data": {
      "text/plain": [
       "26626.749137211373"
      ]
     },
     "execution_count": 205,
     "metadata": {},
     "output_type": "execute_result"
    }
   ],
   "source": [
    "price = predict_price(21, 2, 'yes', 2013, 'Toyota', 'crossover', 'Petrol')\n",
    "price"
   ]
  },
  {
   "cell_type": "code",
   "execution_count": 198,
   "id": "6c14fda6",
   "metadata": {},
   "outputs": [],
   "source": [
    "xtoscale = price.reshape(1,19)"
   ]
  },
  {
   "cell_type": "code",
   "execution_count": 177,
   "id": "6ed16121",
   "metadata": {},
   "outputs": [
    {
     "data": {
      "text/plain": [
       "9"
      ]
     },
     "execution_count": 177,
     "metadata": {},
     "output_type": "execute_result"
    }
   ],
   "source": [
    "brand_index = np.where('Toyota'==(data.columns))[0][0] - 1\n",
    "body_index = np.where(('crossover')==(data.columns))[0][0] - 1\n",
    "etype_index = np.where(('Petrol')==(data.columns))[0][0] - 1\n",
    "brand_index"
   ]
  },
  {
   "cell_type": "code",
   "execution_count": 170,
   "id": "54288cc5",
   "metadata": {},
   "outputs": [
    {
     "data": {
      "text/plain": [
       "Index(['Mileage', 'EngineV', 'Registration', 'Year', 'Audi', 'BMW',\n",
       "       'Mercedes-Benz', 'Mitsubishi', 'Renault', 'Toyota', 'Volkswagen',\n",
       "       'crossover', 'hatch', 'sedan', 'vagon', 'van', 'Diesel', 'Gas',\n",
       "       'Petrol'],\n",
       "      dtype='object')"
      ]
     },
     "execution_count": 170,
     "metadata": {},
     "output_type": "execute_result"
    }
   ],
   "source": [
    "inputs.columns"
   ]
  },
  {
   "cell_type": "code",
   "execution_count": 184,
   "id": "0370d0da",
   "metadata": {},
   "outputs": [
    {
     "data": {
      "text/plain": [
       "(829, 19)"
      ]
     },
     "execution_count": 184,
     "metadata": {},
     "output_type": "execute_result"
    }
   ],
   "source": [
    "x_test.shape"
   ]
  },
  {
   "cell_type": "code",
   "execution_count": 199,
   "id": "c2adc032",
   "metadata": {},
   "outputs": [
    {
     "data": {
      "text/plain": [
       "(1, 19)"
      ]
     },
     "execution_count": 199,
     "metadata": {},
     "output_type": "execute_result"
    }
   ],
   "source": [
    "xtoscale.shape"
   ]
  },
  {
   "cell_type": "code",
   "execution_count": 207,
   "id": "4ab73c8c",
   "metadata": {},
   "outputs": [],
   "source": [
    "import pickle\n",
    "with open('D:\\Data Science\\Datasets\\Datasets\\Models\\CarPricePredictionModel.pickle', 'wb') as f:\n",
    "    pickle.dump(reg, f)"
   ]
  },
  {
   "cell_type": "code",
   "execution_count": 208,
   "id": "c90b6974",
   "metadata": {},
   "outputs": [],
   "source": [
    "import json\n",
    "Columns = {\n",
    "    'data_cols': [c.lower() for c in inputs.columns]\n",
    "}\n",
    "with open('D:\\Data Science\\Datasets\\Datasets\\Models\\Columns.json', 'w') as f:\n",
    "    f.write(json.dumps(Columns))"
   ]
  },
  {
   "cell_type": "code",
   "execution_count": null,
   "id": "d994ccc0",
   "metadata": {},
   "outputs": [],
   "source": []
  }
 ],
 "metadata": {
  "kernelspec": {
   "display_name": "Python 3",
   "language": "python",
   "name": "python3"
  },
  "language_info": {
   "codemirror_mode": {
    "name": "ipython",
    "version": 3
   },
   "file_extension": ".py",
   "mimetype": "text/x-python",
   "name": "python",
   "nbconvert_exporter": "python",
   "pygments_lexer": "ipython3",
   "version": "3.8.8"
  }
 },
 "nbformat": 4,
 "nbformat_minor": 5
}
